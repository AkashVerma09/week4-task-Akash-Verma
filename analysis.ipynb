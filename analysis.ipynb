{
 "cells": [
  {
   "cell_type": "markdown",
   "id": "50b7e9ba",
   "metadata": {},
   "source": [
    "# Mini Data Analysis Project\n",
    "This notebook demonstrates a full data analysis workflow:\n",
    "1. Data Loading & Cleaning\n",
    "2. Data Transformation\n",
    "3. Exploratory Analysis\n",
    "4. Visualization\n",
    "5. Insight Extraction"
   ]
  },
  {
   "cell_type": "code",
   "execution_count": 36,
   "id": "5a482ab6",
   "metadata": {},
   "outputs": [],
   "source": [
    "import pandas as pd\n",
    "import numpy as np\n",
    "import matplotlib.pyplot as plt\n",
    "\n",
    "# Display settings\n",
    "pd.set_option('display.max_columns', None)"
   ]
  },
  {
   "cell_type": "markdown",
   "id": "962f901b",
   "metadata": {},
   "source": [
    "## 1. Data Loading"
   ]
  },
  {
   "cell_type": "code",
   "execution_count": 37,
   "id": "6731886e",
   "metadata": {},
   "outputs": [
    {
     "name": "stdout",
     "output_type": "stream",
     "text": [
      "(47, 7)\n"
     ]
    },
    {
     "data": {
      "text/html": [
       "<div>\n",
       "<style scoped>\n",
       "    .dataframe tbody tr th:only-of-type {\n",
       "        vertical-align: middle;\n",
       "    }\n",
       "\n",
       "    .dataframe tbody tr th {\n",
       "        vertical-align: top;\n",
       "    }\n",
       "\n",
       "    .dataframe thead th {\n",
       "        text-align: right;\n",
       "    }\n",
       "</style>\n",
       "<table border=\"1\" class=\"dataframe\">\n",
       "  <thead>\n",
       "    <tr style=\"text-align: right;\">\n",
       "      <th></th>\n",
       "      <th>CustomerID</th>\n",
       "      <th>Age</th>\n",
       "      <th>Annual_Income_k</th>\n",
       "      <th>SpendingScore</th>\n",
       "      <th>Gender</th>\n",
       "      <th>Region</th>\n",
       "      <th>Membership</th>\n",
       "    </tr>\n",
       "  </thead>\n",
       "  <tbody>\n",
       "    <tr>\n",
       "      <th>0</th>\n",
       "      <td>C1000</td>\n",
       "      <td>56.0</td>\n",
       "      <td>44.1</td>\n",
       "      <td>21.9</td>\n",
       "      <td>Male</td>\n",
       "      <td>West</td>\n",
       "      <td>no</td>\n",
       "    </tr>\n",
       "    <tr>\n",
       "      <th>1</th>\n",
       "      <td>C1001</td>\n",
       "      <td>69.0</td>\n",
       "      <td>49.4</td>\n",
       "      <td>73.8</td>\n",
       "      <td>Female</td>\n",
       "      <td>North</td>\n",
       "      <td>No</td>\n",
       "    </tr>\n",
       "    <tr>\n",
       "      <th>2</th>\n",
       "      <td>C1002</td>\n",
       "      <td>NaN</td>\n",
       "      <td>51.9</td>\n",
       "      <td>93.2</td>\n",
       "      <td>Female</td>\n",
       "      <td>East</td>\n",
       "      <td>Yes</td>\n",
       "    </tr>\n",
       "    <tr>\n",
       "      <th>3</th>\n",
       "      <td>C1003</td>\n",
       "      <td>32.0</td>\n",
       "      <td>63.3</td>\n",
       "      <td>61.4</td>\n",
       "      <td>Male</td>\n",
       "      <td>NaN</td>\n",
       "      <td>No</td>\n",
       "    </tr>\n",
       "    <tr>\n",
       "      <th>4</th>\n",
       "      <td>C1004</td>\n",
       "      <td>60.0</td>\n",
       "      <td>47.2</td>\n",
       "      <td>7.9</td>\n",
       "      <td>Male</td>\n",
       "      <td>North</td>\n",
       "      <td>Yes</td>\n",
       "    </tr>\n",
       "  </tbody>\n",
       "</table>\n",
       "</div>"
      ],
      "text/plain": [
       "  CustomerID   Age  Annual_Income_k  SpendingScore  Gender Region Membership\n",
       "0      C1000  56.0             44.1           21.9    Male   West         no\n",
       "1      C1001  69.0             49.4           73.8  Female  North         No\n",
       "2      C1002   NaN             51.9           93.2  Female   East        Yes\n",
       "3      C1003  32.0             63.3           61.4    Male    NaN         No\n",
       "4      C1004  60.0             47.2            7.9    Male  North        Yes"
      ]
     },
     "execution_count": 37,
     "metadata": {},
     "output_type": "execute_result"
    }
   ],
   "source": [
    "df = pd.read_csv('week4_dataset.csv')\n",
    "print(df.shape)\n",
    "df.head()"
   ]
  },
  {
   "cell_type": "markdown",
   "id": "9f012503",
   "metadata": {},
   "source": [
    "### Dataset Overview"
   ]
  },
  {
   "cell_type": "code",
   "execution_count": 38,
   "id": "4ddb168c",
   "metadata": {},
   "outputs": [
    {
     "name": "stdout",
     "output_type": "stream",
     "text": [
      "<class 'pandas.core.frame.DataFrame'>\n",
      "RangeIndex: 47 entries, 0 to 46\n",
      "Data columns (total 7 columns):\n",
      " #   Column           Non-Null Count  Dtype  \n",
      "---  ------           --------------  -----  \n",
      " 0   CustomerID       47 non-null     object \n",
      " 1   Age              45 non-null     float64\n",
      " 2   Annual_Income_k  46 non-null     float64\n",
      " 3   SpendingScore    47 non-null     float64\n",
      " 4   Gender           47 non-null     object \n",
      " 5   Region           46 non-null     object \n",
      " 6   Membership       46 non-null     object \n",
      "dtypes: float64(3), object(4)\n",
      "memory usage: 2.7+ KB\n"
     ]
    }
   ],
   "source": [
    "df.info()"
   ]
  },
  {
   "cell_type": "markdown",
   "id": "8e835c4e",
   "metadata": {},
   "source": [
    "## 2. Data Cleaning"
   ]
  },
  {
   "cell_type": "code",
   "execution_count": 39,
   "id": "abfb582c",
   "metadata": {
    "scrolled": true
   },
   "outputs": [
    {
     "data": {
      "text/html": [
       "<div>\n",
       "<style scoped>\n",
       "    .dataframe tbody tr th:only-of-type {\n",
       "        vertical-align: middle;\n",
       "    }\n",
       "\n",
       "    .dataframe tbody tr th {\n",
       "        vertical-align: top;\n",
       "    }\n",
       "\n",
       "    .dataframe thead th {\n",
       "        text-align: right;\n",
       "    }\n",
       "</style>\n",
       "<table border=\"1\" class=\"dataframe\">\n",
       "  <thead>\n",
       "    <tr style=\"text-align: right;\">\n",
       "      <th></th>\n",
       "      <th>CustomerID</th>\n",
       "      <th>Age</th>\n",
       "      <th>Annual_Income_k</th>\n",
       "      <th>SpendingScore</th>\n",
       "      <th>Gender</th>\n",
       "      <th>Region</th>\n",
       "      <th>Membership</th>\n",
       "    </tr>\n",
       "  </thead>\n",
       "  <tbody>\n",
       "    <tr>\n",
       "      <th>0</th>\n",
       "      <td>C1000</td>\n",
       "      <td>56.0</td>\n",
       "      <td>44.1</td>\n",
       "      <td>21.9</td>\n",
       "      <td>Male</td>\n",
       "      <td>West</td>\n",
       "      <td>No</td>\n",
       "    </tr>\n",
       "    <tr>\n",
       "      <th>1</th>\n",
       "      <td>C1001</td>\n",
       "      <td>69.0</td>\n",
       "      <td>49.4</td>\n",
       "      <td>73.8</td>\n",
       "      <td>Female</td>\n",
       "      <td>North</td>\n",
       "      <td>No</td>\n",
       "    </tr>\n",
       "    <tr>\n",
       "      <th>2</th>\n",
       "      <td>C1002</td>\n",
       "      <td>41.0</td>\n",
       "      <td>51.9</td>\n",
       "      <td>93.2</td>\n",
       "      <td>Female</td>\n",
       "      <td>East</td>\n",
       "      <td>Yes</td>\n",
       "    </tr>\n",
       "    <tr>\n",
       "      <th>3</th>\n",
       "      <td>C1003</td>\n",
       "      <td>32.0</td>\n",
       "      <td>63.3</td>\n",
       "      <td>61.4</td>\n",
       "      <td>Male</td>\n",
       "      <td>Unknown</td>\n",
       "      <td>No</td>\n",
       "    </tr>\n",
       "    <tr>\n",
       "      <th>4</th>\n",
       "      <td>C1004</td>\n",
       "      <td>60.0</td>\n",
       "      <td>47.2</td>\n",
       "      <td>7.9</td>\n",
       "      <td>Male</td>\n",
       "      <td>North</td>\n",
       "      <td>Yes</td>\n",
       "    </tr>\n",
       "  </tbody>\n",
       "</table>\n",
       "</div>"
      ],
      "text/plain": [
       "  CustomerID   Age  Annual_Income_k  SpendingScore  Gender   Region Membership\n",
       "0      C1000  56.0             44.1           21.9    Male     West         No\n",
       "1      C1001  69.0             49.4           73.8  Female    North         No\n",
       "2      C1002  41.0             51.9           93.2  Female     East        Yes\n",
       "3      C1003  32.0             63.3           61.4    Male  Unknown         No\n",
       "4      C1004  60.0             47.2            7.9    Male    North        Yes"
      ]
     },
     "execution_count": 39,
     "metadata": {},
     "output_type": "execute_result"
    }
   ],
   "source": [
    "#Standardize categorical columns\n",
    "df['Gender'] = df['Gender'].str.strip().str.capitalize()\n",
    "df['Membership'] = df['Membership'].str.strip().str.capitalize()\n",
    "df['Region'] = df['Region'].str.strip().str.capitalize()\n",
    "\n",
    "#Handle missing values\n",
    "df['Age'] = df['Age'].fillna(df['Age'].median())\n",
    "df['Annual_Income_k'] = df['Annual_Income_k'].fillna(df['Annual_Income_k'].mean())\n",
    "df['Region'] = df['Region'].fillna('Unknown')\n",
    "\n",
    "#Remove duplicates\n",
    "df = df.drop_duplicates()\n",
    "\n",
    "#Save cleaned dataset\n",
    "df.to_csv('week4_dataset_cleaned.csv', index=False)\n",
    "df.head()"
   ]
  },
  {
   "cell_type": "markdown",
   "id": "6f9fa691",
   "metadata": {},
   "source": [
    "## 3. Data Transformation"
   ]
  },
  {
   "cell_type": "code",
   "execution_count": 40,
   "id": "4beea26c",
   "metadata": {},
   "outputs": [
    {
     "data": {
      "text/html": [
       "<div>\n",
       "<style scoped>\n",
       "    .dataframe tbody tr th:only-of-type {\n",
       "        vertical-align: middle;\n",
       "    }\n",
       "\n",
       "    .dataframe tbody tr th {\n",
       "        vertical-align: top;\n",
       "    }\n",
       "\n",
       "    .dataframe thead th {\n",
       "        text-align: right;\n",
       "    }\n",
       "</style>\n",
       "<table border=\"1\" class=\"dataframe\">\n",
       "  <thead>\n",
       "    <tr style=\"text-align: right;\">\n",
       "      <th></th>\n",
       "      <th>CustomerID</th>\n",
       "      <th>Age</th>\n",
       "      <th>Annual_Income_k</th>\n",
       "      <th>SpendingScore</th>\n",
       "      <th>Gender</th>\n",
       "      <th>Region</th>\n",
       "      <th>Membership</th>\n",
       "      <th>Income_USD</th>\n",
       "      <th>Affluence_Index</th>\n",
       "    </tr>\n",
       "  </thead>\n",
       "  <tbody>\n",
       "    <tr>\n",
       "      <th>0</th>\n",
       "      <td>C1000</td>\n",
       "      <td>56.0</td>\n",
       "      <td>44.1</td>\n",
       "      <td>21.9</td>\n",
       "      <td>Male</td>\n",
       "      <td>West</td>\n",
       "      <td>No</td>\n",
       "      <td>52.92</td>\n",
       "      <td>9.6579</td>\n",
       "    </tr>\n",
       "    <tr>\n",
       "      <th>1</th>\n",
       "      <td>C1001</td>\n",
       "      <td>69.0</td>\n",
       "      <td>49.4</td>\n",
       "      <td>73.8</td>\n",
       "      <td>Female</td>\n",
       "      <td>North</td>\n",
       "      <td>No</td>\n",
       "      <td>59.28</td>\n",
       "      <td>36.4572</td>\n",
       "    </tr>\n",
       "    <tr>\n",
       "      <th>2</th>\n",
       "      <td>C1002</td>\n",
       "      <td>41.0</td>\n",
       "      <td>51.9</td>\n",
       "      <td>93.2</td>\n",
       "      <td>Female</td>\n",
       "      <td>East</td>\n",
       "      <td>Yes</td>\n",
       "      <td>62.28</td>\n",
       "      <td>48.3708</td>\n",
       "    </tr>\n",
       "    <tr>\n",
       "      <th>3</th>\n",
       "      <td>C1003</td>\n",
       "      <td>32.0</td>\n",
       "      <td>63.3</td>\n",
       "      <td>61.4</td>\n",
       "      <td>Male</td>\n",
       "      <td>Unknown</td>\n",
       "      <td>No</td>\n",
       "      <td>75.96</td>\n",
       "      <td>38.8662</td>\n",
       "    </tr>\n",
       "    <tr>\n",
       "      <th>4</th>\n",
       "      <td>C1004</td>\n",
       "      <td>60.0</td>\n",
       "      <td>47.2</td>\n",
       "      <td>7.9</td>\n",
       "      <td>Male</td>\n",
       "      <td>North</td>\n",
       "      <td>Yes</td>\n",
       "      <td>56.64</td>\n",
       "      <td>3.7288</td>\n",
       "    </tr>\n",
       "  </tbody>\n",
       "</table>\n",
       "</div>"
      ],
      "text/plain": [
       "  CustomerID   Age  Annual_Income_k  SpendingScore  Gender   Region  \\\n",
       "0      C1000  56.0             44.1           21.9    Male     West   \n",
       "1      C1001  69.0             49.4           73.8  Female    North   \n",
       "2      C1002  41.0             51.9           93.2  Female     East   \n",
       "3      C1003  32.0             63.3           61.4    Male  Unknown   \n",
       "4      C1004  60.0             47.2            7.9    Male    North   \n",
       "\n",
       "  Membership  Income_USD  Affluence_Index  \n",
       "0         No       52.92           9.6579  \n",
       "1         No       59.28          36.4572  \n",
       "2        Yes       62.28          48.3708  \n",
       "3         No       75.96          38.8662  \n",
       "4        Yes       56.64           3.7288  "
      ]
     },
     "execution_count": 40,
     "metadata": {},
     "output_type": "execute_result"
    }
   ],
   "source": [
    "#Ensure df is a copy, not a view\n",
    "df = df.copy()\n",
    "\n",
    "#Create derived columns\n",
    "df.loc[:, 'Income_USD'] = df['Annual_Income_k'] * 1.2\n",
    "df.loc[:, 'Affluence_Index'] = df['Annual_Income_k'] * (df['SpendingScore'] / 100)\n",
    "\n",
    "df.head()"
   ]
  },
  {
   "cell_type": "markdown",
   "id": "ee5e1e81",
   "metadata": {},
   "source": [
    "## 4. Exploratory Analysis"
   ]
  },
  {
   "cell_type": "code",
   "execution_count": 41,
   "id": "27a397c4",
   "metadata": {},
   "outputs": [
    {
     "data": {
      "text/html": [
       "<div>\n",
       "<style scoped>\n",
       "    .dataframe tbody tr th:only-of-type {\n",
       "        vertical-align: middle;\n",
       "    }\n",
       "\n",
       "    .dataframe tbody tr th {\n",
       "        vertical-align: top;\n",
       "    }\n",
       "\n",
       "    .dataframe thead th {\n",
       "        text-align: right;\n",
       "    }\n",
       "</style>\n",
       "<table border=\"1\" class=\"dataframe\">\n",
       "  <thead>\n",
       "    <tr style=\"text-align: right;\">\n",
       "      <th></th>\n",
       "      <th>Age</th>\n",
       "      <th>Annual_Income_k</th>\n",
       "      <th>SpendingScore</th>\n",
       "      <th>Income_USD</th>\n",
       "      <th>Affluence_Index</th>\n",
       "    </tr>\n",
       "  </thead>\n",
       "  <tbody>\n",
       "    <tr>\n",
       "      <th>count</th>\n",
       "      <td>46.000000</td>\n",
       "      <td>46.000000</td>\n",
       "      <td>46.000000</td>\n",
       "      <td>46.000000</td>\n",
       "      <td>46.000000</td>\n",
       "    </tr>\n",
       "    <tr>\n",
       "      <th>mean</th>\n",
       "      <td>43.891304</td>\n",
       "      <td>49.423393</td>\n",
       "      <td>50.160870</td>\n",
       "      <td>59.308072</td>\n",
       "      <td>24.736958</td>\n",
       "    </tr>\n",
       "    <tr>\n",
       "      <th>std</th>\n",
       "      <td>15.015885</td>\n",
       "      <td>19.614850</td>\n",
       "      <td>24.676318</td>\n",
       "      <td>23.537820</td>\n",
       "      <td>17.170775</td>\n",
       "    </tr>\n",
       "    <tr>\n",
       "      <th>min</th>\n",
       "      <td>19.000000</td>\n",
       "      <td>6.400000</td>\n",
       "      <td>7.900000</td>\n",
       "      <td>7.680000</td>\n",
       "      <td>3.728800</td>\n",
       "    </tr>\n",
       "    <tr>\n",
       "      <th>25%</th>\n",
       "      <td>32.250000</td>\n",
       "      <td>34.550000</td>\n",
       "      <td>30.425000</td>\n",
       "      <td>41.460000</td>\n",
       "      <td>12.400800</td>\n",
       "    </tr>\n",
       "    <tr>\n",
       "      <th>50%</th>\n",
       "      <td>41.000000</td>\n",
       "      <td>51.200000</td>\n",
       "      <td>45.500000</td>\n",
       "      <td>61.440000</td>\n",
       "      <td>20.321400</td>\n",
       "    </tr>\n",
       "    <tr>\n",
       "      <th>75%</th>\n",
       "      <td>56.750000</td>\n",
       "      <td>61.750000</td>\n",
       "      <td>70.050000</td>\n",
       "      <td>74.100000</td>\n",
       "      <td>34.727100</td>\n",
       "    </tr>\n",
       "    <tr>\n",
       "      <th>max</th>\n",
       "      <td>69.000000</td>\n",
       "      <td>96.800000</td>\n",
       "      <td>100.000000</td>\n",
       "      <td>116.160000</td>\n",
       "      <td>80.500000</td>\n",
       "    </tr>\n",
       "  </tbody>\n",
       "</table>\n",
       "</div>"
      ],
      "text/plain": [
       "             Age  Annual_Income_k  SpendingScore  Income_USD  Affluence_Index\n",
       "count  46.000000        46.000000      46.000000   46.000000        46.000000\n",
       "mean   43.891304        49.423393      50.160870   59.308072        24.736958\n",
       "std    15.015885        19.614850      24.676318   23.537820        17.170775\n",
       "min    19.000000         6.400000       7.900000    7.680000         3.728800\n",
       "25%    32.250000        34.550000      30.425000   41.460000        12.400800\n",
       "50%    41.000000        51.200000      45.500000   61.440000        20.321400\n",
       "75%    56.750000        61.750000      70.050000   74.100000        34.727100\n",
       "max    69.000000        96.800000     100.000000  116.160000        80.500000"
      ]
     },
     "execution_count": 41,
     "metadata": {},
     "output_type": "execute_result"
    }
   ],
   "source": [
    "# Summary statistics\n",
    "df.describe()"
   ]
  },
  {
   "cell_type": "code",
   "execution_count": 42,
   "id": "66bd63a9",
   "metadata": {},
   "outputs": [
    {
     "data": {
      "text/html": [
       "<div>\n",
       "<style scoped>\n",
       "    .dataframe tbody tr th:only-of-type {\n",
       "        vertical-align: middle;\n",
       "    }\n",
       "\n",
       "    .dataframe tbody tr th {\n",
       "        vertical-align: top;\n",
       "    }\n",
       "\n",
       "    .dataframe thead th {\n",
       "        text-align: right;\n",
       "    }\n",
       "</style>\n",
       "<table border=\"1\" class=\"dataframe\">\n",
       "  <thead>\n",
       "    <tr style=\"text-align: right;\">\n",
       "      <th></th>\n",
       "      <th>Gender</th>\n",
       "      <th>Membership</th>\n",
       "      <th>Region</th>\n",
       "    </tr>\n",
       "  </thead>\n",
       "  <tbody>\n",
       "    <tr>\n",
       "      <th>0</th>\n",
       "      <td>Male</td>\n",
       "      <td>Yes</td>\n",
       "      <td>North</td>\n",
       "    </tr>\n",
       "  </tbody>\n",
       "</table>\n",
       "</div>"
      ],
      "text/plain": [
       "  Gender Membership Region\n",
       "0   Male        Yes  North"
      ]
     },
     "execution_count": 42,
     "metadata": {},
     "output_type": "execute_result"
    }
   ],
   "source": [
    "# Most frequent categories\n",
    "df[['Gender','Membership','Region']].mode()"
   ]
  },
  {
   "cell_type": "code",
   "execution_count": 43,
   "id": "72f1783c",
   "metadata": {},
   "outputs": [
    {
     "data": {
      "text/html": [
       "<div>\n",
       "<style scoped>\n",
       "    .dataframe tbody tr th:only-of-type {\n",
       "        vertical-align: middle;\n",
       "    }\n",
       "\n",
       "    .dataframe tbody tr th {\n",
       "        vertical-align: top;\n",
       "    }\n",
       "\n",
       "    .dataframe thead th {\n",
       "        text-align: right;\n",
       "    }\n",
       "</style>\n",
       "<table border=\"1\" class=\"dataframe\">\n",
       "  <thead>\n",
       "    <tr style=\"text-align: right;\">\n",
       "      <th></th>\n",
       "      <th>Age</th>\n",
       "      <th>Annual_Income_k</th>\n",
       "      <th>SpendingScore</th>\n",
       "      <th>Income_USD</th>\n",
       "      <th>Affluence_Index</th>\n",
       "    </tr>\n",
       "  </thead>\n",
       "  <tbody>\n",
       "    <tr>\n",
       "      <th>Age</th>\n",
       "      <td>1.000000</td>\n",
       "      <td>0.212710</td>\n",
       "      <td>-0.125002</td>\n",
       "      <td>0.212710</td>\n",
       "      <td>0.016714</td>\n",
       "    </tr>\n",
       "    <tr>\n",
       "      <th>Annual_Income_k</th>\n",
       "      <td>0.212710</td>\n",
       "      <td>1.000000</td>\n",
       "      <td>-0.011456</td>\n",
       "      <td>1.000000</td>\n",
       "      <td>0.571056</td>\n",
       "    </tr>\n",
       "    <tr>\n",
       "      <th>SpendingScore</th>\n",
       "      <td>-0.125002</td>\n",
       "      <td>-0.011456</td>\n",
       "      <td>1.000000</td>\n",
       "      <td>-0.011456</td>\n",
       "      <td>0.784408</td>\n",
       "    </tr>\n",
       "    <tr>\n",
       "      <th>Income_USD</th>\n",
       "      <td>0.212710</td>\n",
       "      <td>1.000000</td>\n",
       "      <td>-0.011456</td>\n",
       "      <td>1.000000</td>\n",
       "      <td>0.571056</td>\n",
       "    </tr>\n",
       "    <tr>\n",
       "      <th>Affluence_Index</th>\n",
       "      <td>0.016714</td>\n",
       "      <td>0.571056</td>\n",
       "      <td>0.784408</td>\n",
       "      <td>0.571056</td>\n",
       "      <td>1.000000</td>\n",
       "    </tr>\n",
       "  </tbody>\n",
       "</table>\n",
       "</div>"
      ],
      "text/plain": [
       "                      Age  Annual_Income_k  SpendingScore  Income_USD  \\\n",
       "Age              1.000000         0.212710      -0.125002    0.212710   \n",
       "Annual_Income_k  0.212710         1.000000      -0.011456    1.000000   \n",
       "SpendingScore   -0.125002        -0.011456       1.000000   -0.011456   \n",
       "Income_USD       0.212710         1.000000      -0.011456    1.000000   \n",
       "Affluence_Index  0.016714         0.571056       0.784408    0.571056   \n",
       "\n",
       "                 Affluence_Index  \n",
       "Age                     0.016714  \n",
       "Annual_Income_k         0.571056  \n",
       "SpendingScore           0.784408  \n",
       "Income_USD              0.571056  \n",
       "Affluence_Index         1.000000  "
      ]
     },
     "execution_count": 43,
     "metadata": {},
     "output_type": "execute_result"
    }
   ],
   "source": [
    "# Correlation matrix\n",
    "df.corr(numeric_only=True)"
   ]
  },
  {
   "cell_type": "markdown",
   "id": "a8b51e5e",
   "metadata": {},
   "source": [
    "## 5. Visualization"
   ]
  },
  {
   "cell_type": "code",
   "execution_count": 44,
   "id": "f0b72aad",
   "metadata": {},
   "outputs": [
    {
     "data": {
      "image/png": "[encoded data removed]",
      "text/plain": [
       "<Figure size 640x480 with 1 Axes>"
      ]
     },
     "metadata": {},
     "output_type": "display_data"
    }
   ],
   "source": [
    "# Histogram of Age\n",
    "plt.hist(df['Age'], bins=10, color='skyblue', edgecolor='black')\n",
    "plt.xlabel('Age')\n",
    "plt.ylabel('Frequency')\n",
    "plt.title('Age Distribution')\n",
    "plt.show()"
   ]
  },
  {
   "cell_type": "code",
   "execution_count": 45,
   "id": "861dce54",
   "metadata": {},
   "outputs": [
    {
     "data": {
      "image/png": "[encoded data removed]",
      "text/plain": [
       "<Figure size 640x480 with 1 Axes>"
      ]
     },
     "metadata": {},
     "output_type": "display_data"
    }
   ],
   "source": [
    "# Bar chart of Gender\n",
    "df['Gender'].value_counts().plot(kind='bar', color='lightgreen', edgecolor='black')\n",
    "plt.xlabel('Gender')\n",
    "plt.ylabel('Count')\n",
    "plt.title('Gender Distribution')\n",
    "plt.show()"
   ]
  },
  {
   "cell_type": "code",
   "execution_count": 46,
   "id": "8bca0fd2",
   "metadata": {},
   "outputs": [
    {
     "data": {
      "image/png": "[encoded data removed]",
      "text/plain": [
       "<Figure size 640x480 with 1 Axes>"
      ]
     },
     "metadata": {},
     "output_type": "display_data"
    }
   ],
   "source": [
    "# Scatter plot: Income vs SpendingScore\n",
    "plt.scatter(df['Annual_Income_k'], df['SpendingScore'], alpha=0.6, color='orange')\n",
    "plt.xlabel('Annual_Income_k')\n",
    "plt.ylabel('Spending Score')\n",
    "plt.title('Income vs Spending Score')\n",
    "plt.show()"
   ]
  },
  {
   "cell_type": "markdown",
   "id": "fcb3ff75",
   "metadata": {},
   "source": [
    "## 6. Insights & Conclusions\n",
    "- Customers with higher income tend to have higher Affluence_Index, but correlation with SpendingScore is weak.\n",
    "- Gender distribution is skewed toward Male in this synthetic sample.\n",
    "- Several entries had inconsistent categorical spellings; cleaning unified them.\n",
    "- Median age and mean income were used to fill missing values."
   ]
  },
  {
   "cell_type": "code",
   "execution_count": null,
   "id": "74f48c47-500c-4311-91ac-dceff0db60da",
   "metadata": {},
   "outputs": [],
   "source": []
  }
 ],
 "metadata": {
  "kernelspec": {
   "display_name": "Python 3 (ipykernel)",
   "language": "python",
   "name": "python3"
  },
  "language_info": {
   "codemirror_mode": {
    "name": "ipython",
    "version": 3
   },
   "file_extension": ".py",
   "mimetype": "text/x-python",
   "name": "python",
   "nbconvert_exporter": "python",
   "pygments_lexer": "ipython3",
   "version": "3.13.5"
  }
 },
 "nbformat": 4,
 "nbformat_minor": 5
}
